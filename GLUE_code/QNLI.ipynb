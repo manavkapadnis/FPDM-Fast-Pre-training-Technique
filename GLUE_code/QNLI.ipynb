{
 "cells": [
  {
   "cell_type": "code",
   "execution_count": 1,
   "id": "954c7651",
   "metadata": {
    "_cell_guid": "b1076dfc-b9ad-4769-8c92-a6c4dae69d19",
    "_uuid": "8f2839f25d086af736a60e9eeb907d3b93b6e0e5",
    "execution": {
     "iopub.execute_input": "2022-06-03T15:41:54.516910Z",
     "iopub.status.busy": "2022-06-03T15:41:54.516311Z",
     "iopub.status.idle": "2022-06-03T15:42:23.252796Z",
     "shell.execute_reply": "2022-06-03T15:42:23.251703Z"
    },
    "papermill": {
     "duration": 28.750465,
     "end_time": "2022-06-03T15:42:23.255296",
     "exception": false,
     "start_time": "2022-06-03T15:41:54.504831",
     "status": "completed"
    },
    "tags": []
   },
   "outputs": [
    {
     "name": "stdout",
     "output_type": "stream",
     "text": [
      "Collecting fasthugs\r\n",
      "  Downloading fasthugs-0.0.1-py3-none-any.whl (15 kB)\r\n",
      "Requirement already satisfied: fastcore in /opt/conda/lib/python3.7/site-packages (from fasthugs) (1.4.3)\r\n",
      "Requirement already satisfied: fastai>=2.2.2 in /opt/conda/lib/python3.7/site-packages (from fasthugs) (2.6.3)\r\n",
      "Requirement already satisfied: datasets in /opt/conda/lib/python3.7/site-packages (from fasthugs) (2.1.0)\r\n",
      "Requirement already satisfied: pip in /opt/conda/lib/python3.7/site-packages (from fasthugs) (22.1)\r\n",
      "Requirement already satisfied: transformers in /opt/conda/lib/python3.7/site-packages (from fasthugs) (4.18.0)\r\n",
      "Requirement already satisfied: torch>=1.7.1 in /opt/conda/lib/python3.7/site-packages (from fasthugs) (1.11.0+cpu)\r\n",
      "Requirement already satisfied: packaging in /opt/conda/lib/python3.7/site-packages (from fasthugs) (21.3)\r\n",
      "Requirement already satisfied: fastdownload<2,>=0.0.5 in /opt/conda/lib/python3.7/site-packages (from fastai>=2.2.2->fasthugs) (0.0.6)\r\n",
      "Requirement already satisfied: spacy<4 in /opt/conda/lib/python3.7/site-packages (from fastai>=2.2.2->fasthugs) (3.2.4)\r\n",
      "Requirement already satisfied: pyyaml in /opt/conda/lib/python3.7/site-packages (from fastai>=2.2.2->fasthugs) (6.0)\r\n",
      "Requirement already satisfied: fastprogress>=0.2.4 in /opt/conda/lib/python3.7/site-packages (from fastai>=2.2.2->fasthugs) (1.0.2)\r\n",
      "Requirement already satisfied: pillow>6.0.0 in /opt/conda/lib/python3.7/site-packages (from fastai>=2.2.2->fasthugs) (9.1.0)\r\n",
      "Requirement already satisfied: scikit-learn in /opt/conda/lib/python3.7/site-packages (from fastai>=2.2.2->fasthugs) (1.0.2)\r\n",
      "Requirement already satisfied: scipy in /opt/conda/lib/python3.7/site-packages (from fastai>=2.2.2->fasthugs) (1.7.3)\r\n",
      "Requirement already satisfied: requests in /opt/conda/lib/python3.7/site-packages (from fastai>=2.2.2->fasthugs) (2.27.1)\r\n",
      "Requirement already satisfied: torchvision>=0.8.2 in /opt/conda/lib/python3.7/site-packages (from fastai>=2.2.2->fasthugs) (0.12.0+cpu)\r\n",
      "Requirement already satisfied: pandas in /opt/conda/lib/python3.7/site-packages (from fastai>=2.2.2->fasthugs) (1.3.5)\r\n",
      "Requirement already satisfied: matplotlib in /opt/conda/lib/python3.7/site-packages (from fastai>=2.2.2->fasthugs) (3.5.2)\r\n",
      "Requirement already satisfied: typing-extensions in /opt/conda/lib/python3.7/site-packages (from torch>=1.7.1->fasthugs) (4.2.0)\r\n",
      "Requirement already satisfied: numpy>=1.17 in /opt/conda/lib/python3.7/site-packages (from datasets->fasthugs) (1.21.6)\r\n",
      "Requirement already satisfied: dill in /opt/conda/lib/python3.7/site-packages (from datasets->fasthugs) (0.3.5.1)\r\n",
      "Requirement already satisfied: responses<0.19 in /opt/conda/lib/python3.7/site-packages (from datasets->fasthugs) (0.18.0)\r\n",
      "Requirement already satisfied: xxhash in /opt/conda/lib/python3.7/site-packages (from datasets->fasthugs) (3.0.0)\r\n",
      "Requirement already satisfied: multiprocess in /opt/conda/lib/python3.7/site-packages (from datasets->fasthugs) (0.70.13)\r\n",
      "Requirement already satisfied: huggingface-hub<1.0.0,>=0.1.0 in /opt/conda/lib/python3.7/site-packages (from datasets->fasthugs) (0.5.1)\r\n",
      "Requirement already satisfied: pyarrow>=5.0.0 in /opt/conda/lib/python3.7/site-packages (from datasets->fasthugs) (8.0.0)\r\n",
      "Requirement already satisfied: tqdm>=4.62.1 in /opt/conda/lib/python3.7/site-packages (from datasets->fasthugs) (4.64.0)\r\n",
      "Requirement already satisfied: fsspec[http]>=2021.05.0 in /opt/conda/lib/python3.7/site-packages (from datasets->fasthugs) (2022.5.0)\r\n",
      "Requirement already satisfied: importlib-metadata in /opt/conda/lib/python3.7/site-packages (from datasets->fasthugs) (4.11.4)\r\n",
      "Requirement already satisfied: aiohttp in /opt/conda/lib/python3.7/site-packages (from datasets->fasthugs) (3.8.1)\r\n",
      "Requirement already satisfied: pyparsing!=3.0.5,>=2.0.2 in /opt/conda/lib/python3.7/site-packages (from packaging->fasthugs) (3.0.9)\r\n",
      "Requirement already satisfied: filelock in /opt/conda/lib/python3.7/site-packages (from transformers->fasthugs) (3.6.0)\r\n",
      "Requirement already satisfied: sacremoses in /opt/conda/lib/python3.7/site-packages (from transformers->fasthugs) (0.0.53)\r\n",
      "Requirement already satisfied: regex!=2019.12.17 in /opt/conda/lib/python3.7/site-packages (from transformers->fasthugs) (2021.11.10)\r\n",
      "Requirement already satisfied: tokenizers!=0.11.3,<0.13,>=0.11.1 in /opt/conda/lib/python3.7/site-packages (from transformers->fasthugs) (0.12.1)\r\n",
      "Requirement already satisfied: charset-normalizer~=2.0.0 in /opt/conda/lib/python3.7/site-packages (from requests->fastai>=2.2.2->fasthugs) (2.0.12)\r\n",
      "Requirement already satisfied: certifi>=2017.4.17 in /opt/conda/lib/python3.7/site-packages (from requests->fastai>=2.2.2->fasthugs) (2022.5.18.1)\r\n",
      "Requirement already satisfied: idna<4,>=2.5 in /opt/conda/lib/python3.7/site-packages (from requests->fastai>=2.2.2->fasthugs) (3.3)\r\n",
      "Requirement already satisfied: urllib3<1.27,>=1.21.1 in /opt/conda/lib/python3.7/site-packages (from requests->fastai>=2.2.2->fasthugs) (1.26.9)\r\n",
      "Requirement already satisfied: jinja2 in /opt/conda/lib/python3.7/site-packages (from spacy<4->fastai>=2.2.2->fasthugs) (3.1.2)\r\n",
      "Requirement already satisfied: spacy-legacy<3.1.0,>=3.0.8 in /opt/conda/lib/python3.7/site-packages (from spacy<4->fastai>=2.2.2->fasthugs) (3.0.9)\r\n",
      "Requirement already satisfied: spacy-loggers<2.0.0,>=1.0.0 in /opt/conda/lib/python3.7/site-packages (from spacy<4->fastai>=2.2.2->fasthugs) (1.0.2)\r\n",
      "Requirement already satisfied: pydantic!=1.8,!=1.8.1,<1.9.0,>=1.7.4 in /opt/conda/lib/python3.7/site-packages (from spacy<4->fastai>=2.2.2->fasthugs) (1.8.2)\r\n",
      "Requirement already satisfied: catalogue<2.1.0,>=2.0.6 in /opt/conda/lib/python3.7/site-packages (from spacy<4->fastai>=2.2.2->fasthugs) (2.0.7)\r\n",
      "Requirement already satisfied: cymem<2.1.0,>=2.0.2 in /opt/conda/lib/python3.7/site-packages (from spacy<4->fastai>=2.2.2->fasthugs) (2.0.6)\r\n",
      "Requirement already satisfied: typer<0.5.0,>=0.3.0 in /opt/conda/lib/python3.7/site-packages (from spacy<4->fastai>=2.2.2->fasthugs) (0.4.1)\r\n",
      "Requirement already satisfied: click<8.1.0 in /opt/conda/lib/python3.7/site-packages (from spacy<4->fastai>=2.2.2->fasthugs) (8.0.4)\r\n",
      "Requirement already satisfied: setuptools in /opt/conda/lib/python3.7/site-packages (from spacy<4->fastai>=2.2.2->fasthugs) (59.8.0)\r\n",
      "Requirement already satisfied: preshed<3.1.0,>=3.0.2 in /opt/conda/lib/python3.7/site-packages (from spacy<4->fastai>=2.2.2->fasthugs) (3.0.6)\r\n",
      "Requirement already satisfied: langcodes<4.0.0,>=3.2.0 in /opt/conda/lib/python3.7/site-packages (from spacy<4->fastai>=2.2.2->fasthugs) (3.3.0)\r\n",
      "Requirement already satisfied: murmurhash<1.1.0,>=0.28.0 in /opt/conda/lib/python3.7/site-packages (from spacy<4->fastai>=2.2.2->fasthugs) (1.0.7)\r\n",
      "Requirement already satisfied: blis<0.8.0,>=0.4.0 in /opt/conda/lib/python3.7/site-packages (from spacy<4->fastai>=2.2.2->fasthugs) (0.7.7)\r\n",
      "Requirement already satisfied: pathy>=0.3.5 in /opt/conda/lib/python3.7/site-packages (from spacy<4->fastai>=2.2.2->fasthugs) (0.6.1)\r\n",
      "Requirement already satisfied: thinc<8.1.0,>=8.0.12 in /opt/conda/lib/python3.7/site-packages (from spacy<4->fastai>=2.2.2->fasthugs) (8.0.16)\r\n",
      "Requirement already satisfied: wasabi<1.1.0,>=0.8.1 in /opt/conda/lib/python3.7/site-packages (from spacy<4->fastai>=2.2.2->fasthugs) (0.9.1)\r\n",
      "Requirement already satisfied: srsly<3.0.0,>=2.4.1 in /opt/conda/lib/python3.7/site-packages (from spacy<4->fastai>=2.2.2->fasthugs) (2.4.3)\r\n",
      "Collecting typing-extensions\r\n",
      "  Downloading typing_extensions-3.10.0.2-py3-none-any.whl (26 kB)\r\n",
      "Requirement already satisfied: frozenlist>=1.1.1 in /opt/conda/lib/python3.7/site-packages (from aiohttp->datasets->fasthugs) (1.3.0)\r\n",
      "Requirement already satisfied: yarl<2.0,>=1.0 in /opt/conda/lib/python3.7/site-packages (from aiohttp->datasets->fasthugs) (1.7.2)\r\n",
      "Requirement already satisfied: async-timeout<5.0,>=4.0.0a3 in /opt/conda/lib/python3.7/site-packages (from aiohttp->datasets->fasthugs) (4.0.2)\r\n",
      "Requirement already satisfied: attrs>=17.3.0 in /opt/conda/lib/python3.7/site-packages (from aiohttp->datasets->fasthugs) (21.4.0)\r\n",
      "Requirement already satisfied: asynctest==0.13.0 in /opt/conda/lib/python3.7/site-packages (from aiohttp->datasets->fasthugs) (0.13.0)\r\n",
      "Requirement already satisfied: multidict<7.0,>=4.5 in /opt/conda/lib/python3.7/site-packages (from aiohttp->datasets->fasthugs) (6.0.2)\r\n",
      "Requirement already satisfied: aiosignal>=1.1.2 in /opt/conda/lib/python3.7/site-packages (from aiohttp->datasets->fasthugs) (1.2.0)\r\n",
      "Requirement already satisfied: zipp>=0.5 in /opt/conda/lib/python3.7/site-packages (from importlib-metadata->datasets->fasthugs) (3.8.0)\r\n",
      "Requirement already satisfied: cycler>=0.10 in /opt/conda/lib/python3.7/site-packages (from matplotlib->fastai>=2.2.2->fasthugs) (0.11.0)\r\n",
      "Requirement already satisfied: kiwisolver>=1.0.1 in /opt/conda/lib/python3.7/site-packages (from matplotlib->fastai>=2.2.2->fasthugs) (1.4.2)\r\n",
      "Requirement already satisfied: fonttools>=4.22.0 in /opt/conda/lib/python3.7/site-packages (from matplotlib->fastai>=2.2.2->fasthugs) (4.33.3)\r\n",
      "Requirement already satisfied: python-dateutil>=2.7 in /opt/conda/lib/python3.7/site-packages (from matplotlib->fastai>=2.2.2->fasthugs) (2.8.2)\r\n",
      "Requirement already satisfied: pytz>=2017.3 in /opt/conda/lib/python3.7/site-packages (from pandas->fastai>=2.2.2->fasthugs) (2022.1)\r\n",
      "Requirement already satisfied: six in /opt/conda/lib/python3.7/site-packages (from sacremoses->transformers->fasthugs) (1.16.0)\r\n",
      "Requirement already satisfied: joblib in /opt/conda/lib/python3.7/site-packages (from sacremoses->transformers->fasthugs) (1.1.0)\r\n",
      "Requirement already satisfied: threadpoolctl>=2.0.0 in /opt/conda/lib/python3.7/site-packages (from scikit-learn->fastai>=2.2.2->fasthugs) (3.1.0)\r\n",
      "Requirement already satisfied: smart-open<6.0.0,>=5.0.0 in /opt/conda/lib/python3.7/site-packages (from pathy>=0.3.5->spacy<4->fastai>=2.2.2->fasthugs) (5.2.1)\r\n",
      "Requirement already satisfied: MarkupSafe>=2.0 in /opt/conda/lib/python3.7/site-packages (from jinja2->spacy<4->fastai>=2.2.2->fasthugs) (2.0.1)\r\n",
      "Installing collected packages: typing-extensions, fasthugs\r\n",
      "  Attempting uninstall: typing-extensions\r\n",
      "    Found existing installation: typing_extensions 4.2.0\r\n",
      "    Uninstalling typing_extensions-4.2.0:\r\n",
      "      Successfully uninstalled typing_extensions-4.2.0\r\n",
      "\u001b[31mERROR: pip's dependency resolver does not currently take into account all the packages that are installed. This behaviour is the source of the following dependency conflicts.\r\n",
      "tensorflow-io 0.21.0 requires tensorflow-io-gcs-filesystem==0.21.0, which is not installed.\r\n",
      "tensorflow 2.6.4 requires absl-py~=0.10, but you have absl-py 1.0.0 which is incompatible.\r\n",
      "tensorflow 2.6.4 requires numpy~=1.19.2, but you have numpy 1.21.6 which is incompatible.\r\n",
      "tensorflow 2.6.4 requires six~=1.15.0, but you have six 1.16.0 which is incompatible.\r\n",
      "tensorflow 2.6.4 requires wrapt~=1.12.1, but you have wrapt 1.14.1 which is incompatible.\r\n",
      "tensorflow-transform 1.8.0 requires pyarrow<6,>=1, but you have pyarrow 8.0.0 which is incompatible.\r\n",
      "tensorflow-transform 1.8.0 requires tensorflow!=2.0.*,!=2.1.*,!=2.2.*,!=2.3.*,!=2.4.*,!=2.5.*,!=2.6.*,!=2.7.*,<2.9,>=1.15.5, but you have tensorflow 2.6.4 which is incompatible.\r\n",
      "tensorflow-serving-api 2.8.0 requires tensorflow<3,>=2.8.0, but you have tensorflow 2.6.4 which is incompatible.\r\n",
      "rich 12.4.4 requires typing-extensions<5.0,>=4.0.0; python_version < \"3.9\", but you have typing-extensions 3.10.0.2 which is incompatible.\r\n",
      "pytorch-lightning 1.6.3 requires typing-extensions>=4.0.0, but you have typing-extensions 3.10.0.2 which is incompatible.\r\n",
      "flax 0.5.0 requires typing-extensions>=4.1.1, but you have typing-extensions 3.10.0.2 which is incompatible.\r\n",
      "flake8 4.0.1 requires importlib-metadata<4.3; python_version < \"3.8\", but you have importlib-metadata 4.11.4 which is incompatible.\r\n",
      "apache-beam 2.38.0 requires dill<0.3.2,>=0.3.1.1, but you have dill 0.3.5.1 which is incompatible.\r\n",
      "apache-beam 2.38.0 requires httplib2<0.20.0,>=0.8, but you have httplib2 0.20.4 which is incompatible.\r\n",
      "apache-beam 2.38.0 requires pyarrow<7.0.0,>=0.15.1, but you have pyarrow 8.0.0 which is incompatible.\r\n",
      "aioitertools 0.10.0 requires typing_extensions>=4.0; python_version < \"3.10\", but you have typing-extensions 3.10.0.2 which is incompatible.\r\n",
      "aiobotocore 2.3.2 requires botocore<1.24.22,>=1.24.21, but you have botocore 1.26.7 which is incompatible.\u001b[0m\u001b[31m\r\n",
      "\u001b[0mSuccessfully installed fasthugs-0.0.1 typing-extensions-3.10.0.2\r\n",
      "\u001b[33mWARNING: Running pip as the 'root' user can result in broken permissions and conflicting behaviour with the system package manager. It is recommended to use a virtual environment instead: https://pip.pypa.io/warnings/venv\u001b[0m\u001b[33m\r\n",
      "\u001b[0m"
     ]
    }
   ],
   "source": [
    "!pip install fasthugs"
   ]
  },
  {
   "cell_type": "code",
   "execution_count": 2,
   "id": "679b43f8",
   "metadata": {
    "execution": {
     "iopub.execute_input": "2022-06-03T15:42:23.273871Z",
     "iopub.status.busy": "2022-06-03T15:42:23.273413Z",
     "iopub.status.idle": "2022-06-03T15:42:35.378771Z",
     "shell.execute_reply": "2022-06-03T15:42:35.377550Z"
    },
    "papermill": {
     "duration": 12.117529,
     "end_time": "2022-06-03T15:42:35.381407",
     "exception": false,
     "start_time": "2022-06-03T15:42:23.263878",
     "status": "completed"
    },
    "tags": []
   },
   "outputs": [],
   "source": [
    "from transformers import AutoModelForSequenceClassification\n",
    "from fastai.text.all import *\n",
    "from fastai.callback.wandb import *\n",
    "\n",
    "from fasthugs.learner import TransLearner\n",
    "from fasthugs.data import TransformersTextBlock, TextGetter, get_splits, PreprocCategoryBlock\n",
    "\n",
    "from datasets import load_dataset, concatenate_datasets\n",
    "\n",
    "import random \n",
    "import numpy as np\n",
    "import torch\n",
    "\n",
    "def random_seed(seed_value): \n",
    "    np.random.seed(seed_value) \n",
    "    torch.manual_seed(seed_value)\n",
    "    random.seed(seed_value) \n",
    "\n",
    "\n",
    "random_seed(42)"
   ]
  },
  {
   "cell_type": "code",
   "execution_count": 3,
   "id": "fb78f305",
   "metadata": {
    "execution": {
     "iopub.execute_input": "2022-06-03T15:42:35.401261Z",
     "iopub.status.busy": "2022-06-03T15:42:35.399521Z",
     "iopub.status.idle": "2022-06-03T15:42:35.405807Z",
     "shell.execute_reply": "2022-06-03T15:42:35.404917Z"
    },
    "papermill": {
     "duration": 0.018047,
     "end_time": "2022-06-03T15:42:35.407756",
     "exception": false,
     "start_time": "2022-06-03T15:42:35.389709",
     "status": "completed"
    },
    "tags": []
   },
   "outputs": [],
   "source": [
    "ds_name = 'glue'\n",
    "model_name = \"AnonymousSub/rule_based_roberta_hier_triplet_epochs_1_shard_1\"\n",
    "\n",
    "max_len = 512\n",
    "bs = 32\n",
    "val_bs = bs*2\n",
    "\n",
    "lr = 3e-5"
   ]
  },
  {
   "cell_type": "code",
   "execution_count": 4,
   "id": "83124888",
   "metadata": {
    "execution": {
     "iopub.execute_input": "2022-06-03T15:42:35.425709Z",
     "iopub.status.busy": "2022-06-03T15:42:35.425174Z",
     "iopub.status.idle": "2022-06-03T15:42:35.430261Z",
     "shell.execute_reply": "2022-06-03T15:42:35.429406Z"
    },
    "papermill": {
     "duration": 0.016184,
     "end_time": "2022-06-03T15:42:35.432116",
     "exception": false,
     "start_time": "2022-06-03T15:42:35.415932",
     "status": "completed"
    },
    "tags": []
   },
   "outputs": [],
   "source": [
    "GLUE_TASKS = [\"cola\", \"mnli\", \"mnli-mm\", \"mrpc\", \"qnli\", \"qqp\", \"rte\", \"sst2\", \"stsb\", \"wnli\"]\n",
    "def validate_task():\n",
    "    assert task in GLUE_TASKS"
   ]
  },
  {
   "cell_type": "code",
   "execution_count": 5,
   "id": "ba453489",
   "metadata": {
    "execution": {
     "iopub.execute_input": "2022-06-03T15:42:35.450466Z",
     "iopub.status.busy": "2022-06-03T15:42:35.449717Z",
     "iopub.status.idle": "2022-06-03T15:42:35.454538Z",
     "shell.execute_reply": "2022-06-03T15:42:35.453871Z"
    },
    "papermill": {
     "duration": 0.016176,
     "end_time": "2022-06-03T15:42:35.456456",
     "exception": false,
     "start_time": "2022-06-03T15:42:35.440280",
     "status": "completed"
    },
    "tags": []
   },
   "outputs": [],
   "source": [
    "from fastai.metrics import MatthewsCorrCoef, F1Score, PearsonCorrCoef, SpearmanCorrCoef"
   ]
  },
  {
   "cell_type": "code",
   "execution_count": 6,
   "id": "d443d5d1",
   "metadata": {
    "execution": {
     "iopub.execute_input": "2022-06-03T15:42:35.474223Z",
     "iopub.status.busy": "2022-06-03T15:42:35.473593Z",
     "iopub.status.idle": "2022-06-03T15:42:35.479869Z",
     "shell.execute_reply": "2022-06-03T15:42:35.479085Z"
    },
    "papermill": {
     "duration": 0.017551,
     "end_time": "2022-06-03T15:42:35.481929",
     "exception": false,
     "start_time": "2022-06-03T15:42:35.464378",
     "status": "completed"
    },
    "tags": []
   },
   "outputs": [],
   "source": [
    "glue_metrics = {\n",
    "    'cola':[MatthewsCorrCoef()],\n",
    "    'sst2':[accuracy],\n",
    "    'mrpc':[F1Score(), accuracy],\n",
    "    'stsb':[PearsonCorrCoef(), SpearmanCorrCoef()],\n",
    "    'qqp' :[F1Score(), accuracy],\n",
    "    'mnli':[accuracy],\n",
    "    'qnli':[accuracy],\n",
    "    'rte' :[accuracy],\n",
    "    'wnli':[accuracy],\n",
    "}"
   ]
  },
  {
   "cell_type": "code",
   "execution_count": 7,
   "id": "8f5b91f1",
   "metadata": {
    "execution": {
     "iopub.execute_input": "2022-06-03T15:42:35.499934Z",
     "iopub.status.busy": "2022-06-03T15:42:35.499243Z",
     "iopub.status.idle": "2022-06-03T15:42:35.503550Z",
     "shell.execute_reply": "2022-06-03T15:42:35.502897Z"
    },
    "papermill": {
     "duration": 0.015583,
     "end_time": "2022-06-03T15:42:35.505524",
     "exception": false,
     "start_time": "2022-06-03T15:42:35.489941",
     "status": "completed"
    },
    "tags": []
   },
   "outputs": [],
   "source": [
    "task = 'qnli'\n",
    "validate_task()"
   ]
  },
  {
   "cell_type": "code",
   "execution_count": 8,
   "id": "4472d3f8",
   "metadata": {
    "execution": {
     "iopub.execute_input": "2022-06-03T15:42:35.523339Z",
     "iopub.status.busy": "2022-06-03T15:42:35.522631Z",
     "iopub.status.idle": "2022-06-03T15:42:51.169983Z",
     "shell.execute_reply": "2022-06-03T15:42:51.168916Z"
    },
    "papermill": {
     "duration": 15.658605,
     "end_time": "2022-06-03T15:42:51.172091",
     "exception": false,
     "start_time": "2022-06-03T15:42:35.513486",
     "status": "completed"
    },
    "tags": []
   },
   "outputs": [
    {
     "data": {
      "application/vnd.jupyter.widget-view+json": {
       "model_id": "b88cf509f1f54dcaaf0b5bf4613e950c",
       "version_major": 2,
       "version_minor": 0
      },
      "text/plain": [
       "Downloading builder script:   0%|          | 0.00/7.78k [00:00<?, ?B/s]"
      ]
     },
     "metadata": {},
     "output_type": "display_data"
    },
    {
     "data": {
      "application/vnd.jupyter.widget-view+json": {
       "model_id": "8b398db650734d3f9b4160a3989c72ae",
       "version_major": 2,
       "version_minor": 0
      },
      "text/plain": [
       "Downloading metadata:   0%|          | 0.00/4.47k [00:00<?, ?B/s]"
      ]
     },
     "metadata": {},
     "output_type": "display_data"
    },
    {
     "name": "stdout",
     "output_type": "stream",
     "text": [
      "Downloading and preparing dataset glue/qnli (download: 10.14 MiB, generated: 27.11 MiB, post-processed: Unknown size, total: 37.24 MiB) to /root/.cache/huggingface/datasets/glue/qnli/1.0.0/dacbe3125aa31d7f70367a07a8a9e72a5a0bfeb5fc42e75c9db75b96da6053ad...\n"
     ]
    },
    {
     "data": {
      "application/vnd.jupyter.widget-view+json": {
       "model_id": "744bf72ff4854ba297c4a5941f8fa055",
       "version_major": 2,
       "version_minor": 0
      },
      "text/plain": [
       "Downloading data:   0%|          | 0.00/10.6M [00:00<?, ?B/s]"
      ]
     },
     "metadata": {},
     "output_type": "display_data"
    },
    {
     "data": {
      "application/vnd.jupyter.widget-view+json": {
       "model_id": "cb1bf5de7e2e4c3b8861b9417913553a",
       "version_major": 2,
       "version_minor": 0
      },
      "text/plain": [
       "Generating train split:   0%|          | 0/104743 [00:00<?, ? examples/s]"
      ]
     },
     "metadata": {},
     "output_type": "display_data"
    },
    {
     "data": {
      "application/vnd.jupyter.widget-view+json": {
       "model_id": "e5ce30a7d47e4a4a9e7fe193a37db767",
       "version_major": 2,
       "version_minor": 0
      },
      "text/plain": [
       "Generating validation split:   0%|          | 0/5463 [00:00<?, ? examples/s]"
      ]
     },
     "metadata": {},
     "output_type": "display_data"
    },
    {
     "data": {
      "application/vnd.jupyter.widget-view+json": {
       "model_id": "67105c41c52f421d9f75122dabeaa0d1",
       "version_major": 2,
       "version_minor": 0
      },
      "text/plain": [
       "Generating test split:   0%|          | 0/5463 [00:00<?, ? examples/s]"
      ]
     },
     "metadata": {},
     "output_type": "display_data"
    },
    {
     "name": "stdout",
     "output_type": "stream",
     "text": [
      "Dataset glue downloaded and prepared to /root/.cache/huggingface/datasets/glue/qnli/1.0.0/dacbe3125aa31d7f70367a07a8a9e72a5a0bfeb5fc42e75c9db75b96da6053ad. Subsequent calls will reuse this data.\n"
     ]
    },
    {
     "data": {
      "application/vnd.jupyter.widget-view+json": {
       "model_id": "07076ec5461a42f085eefff5bd53b4e3",
       "version_major": 2,
       "version_minor": 0
      },
      "text/plain": [
       "  0%|          | 0/3 [00:00<?, ?it/s]"
      ]
     },
     "metadata": {},
     "output_type": "display_data"
    }
   ],
   "source": [
    "ds = load_dataset(ds_name, task)"
   ]
  },
  {
   "cell_type": "code",
   "execution_count": 9,
   "id": "6569b054",
   "metadata": {
    "execution": {
     "iopub.execute_input": "2022-06-03T15:42:51.192707Z",
     "iopub.status.busy": "2022-06-03T15:42:51.192341Z",
     "iopub.status.idle": "2022-06-03T15:42:51.199869Z",
     "shell.execute_reply": "2022-06-03T15:42:51.198813Z"
    },
    "papermill": {
     "duration": 0.020068,
     "end_time": "2022-06-03T15:42:51.201908",
     "exception": false,
     "start_time": "2022-06-03T15:42:51.181840",
     "status": "completed"
    },
    "tags": []
   },
   "outputs": [
    {
     "data": {
      "text/plain": [
       "dict_keys(['train', 'validation', 'test'])"
      ]
     },
     "execution_count": 9,
     "metadata": {},
     "output_type": "execute_result"
    }
   ],
   "source": [
    "ds.keys()"
   ]
  },
  {
   "cell_type": "code",
   "execution_count": 10,
   "id": "618f58ee",
   "metadata": {
    "execution": {
     "iopub.execute_input": "2022-06-03T15:42:51.221999Z",
     "iopub.status.busy": "2022-06-03T15:42:51.221610Z",
     "iopub.status.idle": "2022-06-03T15:42:51.228721Z",
     "shell.execute_reply": "2022-06-03T15:42:51.228091Z"
    },
    "papermill": {
     "duration": 0.019343,
     "end_time": "2022-06-03T15:42:51.230555",
     "exception": false,
     "start_time": "2022-06-03T15:42:51.211212",
     "status": "completed"
    },
    "tags": []
   },
   "outputs": [
    {
     "data": {
      "text/plain": [
       "(#5463) [104743,104744,104745,104746,104747,104748,104749,104750,104751,104752...]"
      ]
     },
     "execution_count": 10,
     "metadata": {},
     "output_type": "execute_result"
    }
   ],
   "source": [
    "train_idx, valid_idx = get_splits(ds)\n",
    "valid_idx"
   ]
  },
  {
   "cell_type": "code",
   "execution_count": 11,
   "id": "719fd83c",
   "metadata": {
    "execution": {
     "iopub.execute_input": "2022-06-03T15:42:51.250789Z",
     "iopub.status.busy": "2022-06-03T15:42:51.250143Z",
     "iopub.status.idle": "2022-06-03T15:42:51.260854Z",
     "shell.execute_reply": "2022-06-03T15:42:51.259902Z"
    },
    "papermill": {
     "duration": 0.023364,
     "end_time": "2022-06-03T15:42:51.263111",
     "exception": false,
     "start_time": "2022-06-03T15:42:51.239747",
     "status": "completed"
    },
    "tags": []
   },
   "outputs": [],
   "source": [
    "train_ds = concatenate_datasets([ds['train'], ds['validation']])"
   ]
  },
  {
   "cell_type": "code",
   "execution_count": 12,
   "id": "afb3296b",
   "metadata": {
    "execution": {
     "iopub.execute_input": "2022-06-03T15:42:51.283690Z",
     "iopub.status.busy": "2022-06-03T15:42:51.283323Z",
     "iopub.status.idle": "2022-06-03T15:42:51.292027Z",
     "shell.execute_reply": "2022-06-03T15:42:51.291077Z"
    },
    "papermill": {
     "duration": 0.021436,
     "end_time": "2022-06-03T15:42:51.293993",
     "exception": false,
     "start_time": "2022-06-03T15:42:51.272557",
     "status": "completed"
    },
    "tags": []
   },
   "outputs": [
    {
     "data": {
      "text/plain": [
       "{'question': 'When did the third Digimon series begin?',\n",
       " 'sentence': 'Unlike the two seasons before it and most of the seasons that followed, Digimon Tamers takes a darker and more realistic approach to its story featuring Digimon who do not reincarnate after their deaths and more complex character development in the original Japanese.',\n",
       " 'label': 1,\n",
       " 'idx': 0}"
      ]
     },
     "execution_count": 12,
     "metadata": {},
     "output_type": "execute_result"
    }
   ],
   "source": [
    "train_ds[0]"
   ]
  },
  {
   "cell_type": "code",
   "execution_count": 13,
   "id": "0d092e57",
   "metadata": {
    "execution": {
     "iopub.execute_input": "2022-06-03T15:42:51.314858Z",
     "iopub.status.busy": "2022-06-03T15:42:51.314146Z",
     "iopub.status.idle": "2022-06-03T15:43:07.133540Z",
     "shell.execute_reply": "2022-06-03T15:43:07.132621Z"
    },
    "papermill": {
     "duration": 15.832289,
     "end_time": "2022-06-03T15:43:07.135859",
     "exception": false,
     "start_time": "2022-06-03T15:42:51.303570",
     "status": "completed"
    },
    "tags": []
   },
   "outputs": [
    {
     "data": {
      "application/vnd.jupyter.widget-view+json": {
       "model_id": "cb357accd8de47e195a87569c890026d",
       "version_major": 2,
       "version_minor": 0
      },
      "text/plain": [
       "Downloading:   0%|          | 0.00/384 [00:00<?, ?B/s]"
      ]
     },
     "metadata": {},
     "output_type": "display_data"
    },
    {
     "data": {
      "application/vnd.jupyter.widget-view+json": {
       "model_id": "3859d6e8f57a4917880b400ee97afe17",
       "version_major": 2,
       "version_minor": 0
      },
      "text/plain": [
       "Downloading:   0%|          | 0.00/780k [00:00<?, ?B/s]"
      ]
     },
     "metadata": {},
     "output_type": "display_data"
    },
    {
     "data": {
      "application/vnd.jupyter.widget-view+json": {
       "model_id": "e32ff8588dbe49d785bf877558ab135c",
       "version_major": 2,
       "version_minor": 0
      },
      "text/plain": [
       "Downloading:   0%|          | 0.00/446k [00:00<?, ?B/s]"
      ]
     },
     "metadata": {},
     "output_type": "display_data"
    },
    {
     "data": {
      "application/vnd.jupyter.widget-view+json": {
       "model_id": "7aebe7de82f04b068cfbe28e9b3d3feb",
       "version_major": 2,
       "version_minor": 0
      },
      "text/plain": [
       "Downloading:   0%|          | 0.00/1.29M [00:00<?, ?B/s]"
      ]
     },
     "metadata": {},
     "output_type": "display_data"
    },
    {
     "data": {
      "application/vnd.jupyter.widget-view+json": {
       "model_id": "f515d4bb560b4cf2ba09cc549cb7a638",
       "version_major": 2,
       "version_minor": 0
      },
      "text/plain": [
       "Downloading:   0%|          | 0.00/239 [00:00<?, ?B/s]"
      ]
     },
     "metadata": {},
     "output_type": "display_data"
    }
   ],
   "source": [
    "vocab = train_ds.features['label'].names\n",
    "dblock = DataBlock(blocks = [TransformersTextBlock(pretrained_model_name=model_name), PreprocCategoryBlock(vocab)],\n",
    "                   get_x=TextGetter('question', 'sentence'),\n",
    "                   get_y=ItemGetter('label'),\n",
    "                   splitter=IndexSplitter(valid_idx))"
   ]
  },
  {
   "cell_type": "code",
   "execution_count": 14,
   "id": "0116ed3a",
   "metadata": {
    "execution": {
     "iopub.execute_input": "2022-06-03T15:43:07.159411Z",
     "iopub.status.busy": "2022-06-03T15:43:07.158864Z",
     "iopub.status.idle": "2022-06-03T15:44:26.418902Z",
     "shell.execute_reply": "2022-06-03T15:44:26.418095Z"
    },
    "papermill": {
     "duration": 79.284213,
     "end_time": "2022-06-03T15:44:26.430948",
     "exception": false,
     "start_time": "2022-06-03T15:43:07.146735",
     "status": "completed"
    },
    "tags": []
   },
   "outputs": [
    {
     "name": "stdout",
     "output_type": "stream",
     "text": [
      "CPU times: user 1min 19s, sys: 178 ms, total: 1min 19s\n",
      "Wall time: 1min 19s\n"
     ]
    }
   ],
   "source": [
    "%%time\n",
    "dls = dblock.dataloaders(train_ds, bs=bs, val_bs=val_bs)"
   ]
  },
  {
   "cell_type": "code",
   "execution_count": 15,
   "id": "7dcda46e",
   "metadata": {
    "execution": {
     "iopub.execute_input": "2022-06-03T15:44:26.454084Z",
     "iopub.status.busy": "2022-06-03T15:44:26.453607Z",
     "iopub.status.idle": "2022-06-03T15:44:26.583591Z",
     "shell.execute_reply": "2022-06-03T15:44:26.582537Z"
    },
    "papermill": {
     "duration": 0.144243,
     "end_time": "2022-06-03T15:44:26.585682",
     "exception": false,
     "start_time": "2022-06-03T15:44:26.441439",
     "status": "completed"
    },
    "tags": []
   },
   "outputs": [
    {
     "data": {
      "text/html": [
       "<table border=\"1\" class=\"dataframe\">\n",
       "  <thead>\n",
       "    <tr style=\"text-align: right;\">\n",
       "      <th></th>\n",
       "      <th>text</th>\n",
       "      <th>text_</th>\n",
       "      <th>category</th>\n",
       "    </tr>\n",
       "  </thead>\n",
       "  <tbody>\n",
       "    <tr>\n",
       "      <th>0</th>\n",
       "      <td>When did the third Digimon series begin?</td>\n",
       "      <td>Unlike the two seasons before it and most of the seasons that followed, Digimon Tamers takes a darker and more realistic approach to its story featuring Digimon who do not reincarnate after their deaths and more complex character development in the original Japanese.</td>\n",
       "      <td>not_entailment</td>\n",
       "    </tr>\n",
       "    <tr>\n",
       "      <th>1</th>\n",
       "      <td>How was the Everton FC's crest redesign received by fans?</td>\n",
       "      <td>The redesign was poorly received by supporters, with a poll on an Everton fan site registering a 91% negative response to the crest.</td>\n",
       "      <td>entailment</td>\n",
       "    </tr>\n",
       "    <tr>\n",
       "      <th>2</th>\n",
       "      <td>Beyoncé was an honorary chair of the 2013 what?</td>\n",
       "      <td>She was also honorary chair of the 2013 Met Gala.</td>\n",
       "      <td>entailment</td>\n",
       "    </tr>\n",
       "    <tr>\n",
       "      <th>3</th>\n",
       "      <td>Who was the author of Conversations on the Plurality of Worlds (1686)?</td>\n",
       "      <td>Sarah Trimmer wrote a successful natural history textbook for children titled The Easy Introduction to the Knowledge of Nature (1782), which was published for many years after in eleven editions.</td>\n",
       "      <td>not_entailment</td>\n",
       "    </tr>\n",
       "    <tr>\n",
       "      <th>4</th>\n",
       "      <td>What is essential for the mating of the elements that create radio waves?</td>\n",
       "      <td>Antennas are required by any radio receiver or transmitter to couple its electrical connection to the electromagnetic field.</td>\n",
       "      <td>entailment</td>\n",
       "    </tr>\n",
       "  </tbody>\n",
       "</table>"
      ],
      "text/plain": [
       "<IPython.core.display.HTML object>"
      ]
     },
     "metadata": {},
     "output_type": "display_data"
    }
   ],
   "source": [
    "dls.show_batch(max_n=5)"
   ]
  },
  {
   "cell_type": "code",
   "execution_count": 16,
   "id": "8dadc7be",
   "metadata": {
    "execution": {
     "iopub.execute_input": "2022-06-03T15:44:26.609084Z",
     "iopub.status.busy": "2022-06-03T15:44:26.608629Z",
     "iopub.status.idle": "2022-06-03T15:44:26.614057Z",
     "shell.execute_reply": "2022-06-03T15:44:26.613113Z"
    },
    "papermill": {
     "duration": 0.019811,
     "end_time": "2022-06-03T15:44:26.616323",
     "exception": false,
     "start_time": "2022-06-03T15:44:26.596512",
     "status": "completed"
    },
    "tags": []
   },
   "outputs": [],
   "source": [
    "import wandb\n",
    "\n",
    "WANDB_NAME = f'{ds_name}-{task}-{model_name}'\n",
    "GROUP = f'{ds_name}-{task}-{model_name}-{lr:.0e}'\n",
    "NOTES = f'finetuning {model_name} with RAdam lr={lr:.0e}'\n",
    "CONFIG = {}\n",
    "TAGS =[model_name, ds_name, 'radam']"
   ]
  },
  {
   "cell_type": "code",
   "execution_count": 17,
   "id": "e44225d0",
   "metadata": {
    "execution": {
     "iopub.execute_input": "2022-06-03T15:44:26.639865Z",
     "iopub.status.busy": "2022-06-03T15:44:26.639438Z",
     "iopub.status.idle": "2022-06-03T15:44:26.643573Z",
     "shell.execute_reply": "2022-06-03T15:44:26.642834Z"
    },
    "papermill": {
     "duration": 0.018397,
     "end_time": "2022-06-03T15:44:26.645455",
     "exception": false,
     "start_time": "2022-06-03T15:44:26.627058",
     "status": "completed"
    },
    "tags": []
   },
   "outputs": [],
   "source": [
    "#wandb.init(reinit=True, project=\"fasthugs\", entity=\"fastai_community\",\n",
    "#           name=WANDB_NAME, group=GROUP, notes=NOTES, tags=TAGS, config=CONFIG);"
   ]
  },
  {
   "cell_type": "code",
   "execution_count": 18,
   "id": "5358bb14",
   "metadata": {
    "execution": {
     "iopub.execute_input": "2022-06-03T15:44:26.668752Z",
     "iopub.status.busy": "2022-06-03T15:44:26.668080Z",
     "iopub.status.idle": "2022-06-03T15:45:16.402585Z",
     "shell.execute_reply": "2022-06-03T15:45:16.401726Z"
    },
    "papermill": {
     "duration": 49.748674,
     "end_time": "2022-06-03T15:45:16.404803",
     "exception": false,
     "start_time": "2022-06-03T15:44:26.656129",
     "status": "completed"
    },
    "tags": []
   },
   "outputs": [
    {
     "data": {
      "application/vnd.jupyter.widget-view+json": {
       "model_id": "efe0367ebf5d48af8342c8be2a4c21a2",
       "version_major": 2,
       "version_minor": 0
      },
      "text/plain": [
       "Downloading:   0%|          | 0.00/723 [00:00<?, ?B/s]"
      ]
     },
     "metadata": {},
     "output_type": "display_data"
    },
    {
     "data": {
      "application/vnd.jupyter.widget-view+json": {
       "model_id": "3381636536e948659ffc722efa398cf0",
       "version_major": 2,
       "version_minor": 0
      },
      "text/plain": [
       "Downloading:   0%|          | 0.00/476M [00:00<?, ?B/s]"
      ]
     },
     "metadata": {},
     "output_type": "display_data"
    },
    {
     "name": "stderr",
     "output_type": "stream",
     "text": [
      "Some weights of the model checkpoint at AnonymousSub/rule_based_roberta_hier_triplet_epochs_1_shard_1 were not used when initializing RobertaForSequenceClassification: ['pooler.dense.weight', 'pooler.dense.bias']\n",
      "- This IS expected if you are initializing RobertaForSequenceClassification from the checkpoint of a model trained on another task or with another architecture (e.g. initializing a BertForSequenceClassification model from a BertForPreTraining model).\n",
      "- This IS NOT expected if you are initializing RobertaForSequenceClassification from the checkpoint of a model that you expect to be exactly identical (initializing a BertForSequenceClassification model from a BertForSequenceClassification model).\n",
      "Some weights of RobertaForSequenceClassification were not initialized from the model checkpoint at AnonymousSub/rule_based_roberta_hier_triplet_epochs_1_shard_1 and are newly initialized: ['classifier.out_proj.bias', 'classifier.out_proj.weight', 'classifier.dense.bias', 'classifier.dense.weight']\n",
      "You should probably TRAIN this model on a down-stream task to be able to use it for predictions and inference.\n"
     ]
    }
   ],
   "source": [
    "model = AutoModelForSequenceClassification.from_pretrained(model_name)\n",
    "metrics = glue_metrics[task]\n",
    "learn = TransLearner(dls, model, metrics=metrics).to_fp16()"
   ]
  },
  {
   "cell_type": "code",
   "execution_count": 19,
   "id": "64642851",
   "metadata": {
    "execution": {
     "iopub.execute_input": "2022-06-03T15:45:16.429533Z",
     "iopub.status.busy": "2022-06-03T15:45:16.428644Z"
    },
    "papermill": {
     "duration": 1665.348328,
     "end_time": "2022-06-03T16:13:01.764465",
     "exception": false,
     "start_time": "2022-06-03T15:45:16.416137",
     "status": "completed"
    },
    "tags": []
   },
   "outputs": [
    {
     "name": "stderr",
     "output_type": "stream",
     "text": [
      "/opt/conda/lib/python3.7/site-packages/torch/autocast_mode.py:162: UserWarning: User provided device_type of 'cuda', but CUDA is not available. Disabling\n",
      "  warnings.warn('User provided device_type of \\'cuda\\', but CUDA is not available. Disabling')\n",
      "/opt/conda/lib/python3.7/site-packages/torch/cuda/amp/grad_scaler.py:115: UserWarning: torch.cuda.amp.GradScaler is enabled, but CUDA is not available.  Disabling.\n",
      "  warnings.warn(\"torch.cuda.amp.GradScaler is enabled, but CUDA is not available.  Disabling.\")\n"
     ]
    },
    {
     "data": {
      "text/html": [
       "\n",
       "<style>\n",
       "    /* Turns off some styling */\n",
       "    progress {\n",
       "        /* gets rid of default border in Firefox and Opera. */\n",
       "        border: none;\n",
       "        /* Needs to be in here for Safari polyfill so background images work as expected. */\n",
       "        background-size: auto;\n",
       "    }\n",
       "    .progress-bar-interrupted, .progress-bar-interrupted::-webkit-progress-bar {\n",
       "        background: #F44336;\n",
       "    }\n",
       "</style>\n"
      ],
      "text/plain": [
       "<IPython.core.display.HTML object>"
      ]
     },
     "metadata": {},
     "output_type": "display_data"
    },
    {
     "data": {
      "text/html": [
       "\n",
       "    <div>\n",
       "      <progress value='0' class='' max='10' style='width:300px; height:20px; vertical-align: middle;'></progress>\n",
       "      0.00% [0/10 00:00<00:00]\n",
       "    </div>\n",
       "    \n",
       "<table border=\"1\" class=\"dataframe\">\n",
       "  <thead>\n",
       "    <tr style=\"text-align: left;\">\n",
       "      <th>epoch</th>\n",
       "      <th>train_loss</th>\n",
       "      <th>valid_loss</th>\n",
       "      <th>accuracy</th>\n",
       "      <th>time</th>\n",
       "    </tr>\n",
       "  </thead>\n",
       "  <tbody>\n",
       "  </tbody>\n",
       "</table><p>\n",
       "\n",
       "    <div>\n",
       "      <progress value='104' class='' max='3273' style='width:300px; height:20px; vertical-align: middle;'></progress>\n",
       "      3.18% [104/3273 27:32<13:59:08 0.6950]\n",
       "    </div>\n",
       "    "
      ],
      "text/plain": [
       "<IPython.core.display.HTML object>"
      ]
     },
     "metadata": {},
     "output_type": "display_data"
    },
    {
     "name": "stdout",
     "output_type": "stream",
     "text": [
      "huggingface/tokenizers: The current process just got forked, after parallelism has already been used. Disabling parallelism to avoid deadlocks...\n",
      "To disable this warning, you can either:\n",
      "\t- Avoid using `tokenizers` before the fork if possible\n",
      "\t- Explicitly set the environment variable TOKENIZERS_PARALLELISM=(true | false)\n",
      "huggingface/tokenizers: The current process just got forked, after parallelism has already been used. Disabling parallelism to avoid deadlocks...\n",
      "To disable this warning, you can either:\n",
      "\t- Avoid using `tokenizers` before the fork if possible\n",
      "\t- Explicitly set the environment variable TOKENIZERS_PARALLELISM=(true | false)\n",
      "huggingface/tokenizers: The current process just got forked, after parallelism has already been used. Disabling parallelism to avoid deadlocks...\n",
      "To disable this warning, you can either:\n",
      "\t- Avoid using `tokenizers` before the fork if possible\n",
      "\t- Explicitly set the environment variable TOKENIZERS_PARALLELISM=(true | false)\n",
      "huggingface/tokenizers: The current process just got forked, after parallelism has already been used. Disabling parallelism to avoid deadlocks...\n",
      "To disable this warning, you can either:\n",
      "\t- Avoid using `tokenizers` before the fork if possible\n",
      "\t- Explicitly set the environment variable TOKENIZERS_PARALLELISM=(true | false)\n"
     ]
    }
   ],
   "source": [
    "cbs = []\n",
    "learn.fit_one_cycle(10, lr, cbs=cbs)"
   ]
  },
  {
   "cell_type": "code",
   "execution_count": null,
   "id": "bc0446b0",
   "metadata": {
    "execution": {
     "iopub.status.busy": "2022-06-02T15:02:28.339983Z",
     "iopub.status.idle": "2022-06-02T15:02:28.342258Z",
     "shell.execute_reply": "2022-06-02T15:02:28.342037Z",
     "shell.execute_reply.started": "2022-06-02T15:02:28.342009Z"
    },
    "papermill": {
     "duration": null,
     "end_time": null,
     "exception": null,
     "start_time": null,
     "status": "completed"
    },
    "tags": []
   },
   "outputs": [],
   "source": [
    "learn.show_results()"
   ]
  },
  {
   "cell_type": "code",
   "execution_count": null,
   "id": "3e00678d",
   "metadata": {
    "papermill": {
     "duration": null,
     "end_time": null,
     "exception": null,
     "start_time": null,
     "status": "completed"
    },
    "tags": []
   },
   "outputs": [],
   "source": []
  },
  {
   "cell_type": "code",
   "execution_count": null,
   "id": "c6cb9914",
   "metadata": {
    "papermill": {
     "duration": null,
     "end_time": null,
     "exception": null,
     "start_time": null,
     "status": "completed"
    },
    "tags": []
   },
   "outputs": [],
   "source": []
  }
 ],
 "metadata": {
  "kernelspec": {
   "display_name": "Python 3",
   "language": "python",
   "name": "python3"
  },
  "language_info": {
   "codemirror_mode": {
    "name": "ipython",
    "version": 3
   },
   "file_extension": ".py",
   "mimetype": "text/x-python",
   "name": "python",
   "nbconvert_exporter": "python",
   "pygments_lexer": "ipython3",
   "version": "3.6.4"
  },
  "papermill": {
   "default_parameters": {},
   "duration": 1877.484043,
   "end_time": "2022-06-03T16:13:01.789660",
   "environment_variables": {},
   "exception": null,
   "input_path": "__notebook__.ipynb",
   "output_path": "__notebook__.ipynb",
   "parameters": {},
   "start_time": "2022-06-03T15:41:44.305617",
   "version": "2.3.4"
  }
 },
 "nbformat": 4,
 "nbformat_minor": 5
}
